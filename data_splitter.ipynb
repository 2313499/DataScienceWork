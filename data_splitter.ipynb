{
 "cells": [
  {
   "cell_type": "code",
   "execution_count": 21,
   "metadata": {},
   "outputs": [],
   "source": [
    "import numpy as np\n",
    "import pandas as pd\n",
    "\n",
    "location = \"Y:\\python homework\\Chapter 16 Data visualization\\data.csv\"\n",
    "df = pd.read_csv(location, parse_dates = ['MeasureDay'])\n"
   ]
  },
  {
   "cell_type": "markdown",
   "metadata": {},
   "source": [
    "Here we have loaded the csv/xlsx to the dataframe.  Once in the dataframe we have multiple ways of sorting and indexing the data.  \n",
    "On a side note notice how I use the ```parse_dates = [' ']``` This converts the dates to actual datetimes versus objects. "
   ]
  },
  {
   "cell_type": "code",
   "execution_count": 22,
   "metadata": {},
   "outputs": [],
   "source": [
    "df1 = df.ProductName.unique()"
   ]
  },
  {
   "cell_type": "markdown",
   "metadata": {},
   "source": [
    "Next we take the one of the columns and get all the unique values.  We then save those values as an array to index later. "
   ]
  },
  {
   "cell_type": "code",
   "execution_count": 23,
   "metadata": {},
   "outputs": [],
   "source": [
    "from openpyxl import load_workbook\n",
    "book = load_workbook('data.xlsx')\n",
    "writer = pd.ExcelWriter('data.xlsx', mode = 'a')\n",
    "writer.book = book\n",
    "writer.sheets = dict((ws.title, ws) for ws in book.worksheets)\n",
    "\n",
    "for row in df1:\n",
    "    info = (row[:30] + '') if len(row) > 30 else row\n",
    "    df[df.ProductName==row].to_excel(writer,sheet_name = info)"
   ]
  },
  {
   "cell_type": "markdown",
   "metadata": {},
   "source": [
    "Here we take each unique product name and fitler the dataframe down to those components and then put them into their own sheet. Notice the ```info = (row[:30] + '') if len(row) > 30 else row``` this is reducing the string length to 30 or less so that it will fit in the excel tab.  "
   ]
  },
  {
   "cell_type": "code",
   "execution_count": 14,
   "metadata": {},
   "outputs": [],
   "source": [
    "writer.save()"
   ]
  },
  {
   "cell_type": "markdown",
   "metadata": {},
   "source": [
    "This will then save all the data that you have written to writer.  "
   ]
  },
  {
   "cell_type": "code",
   "execution_count": null,
   "metadata": {},
   "outputs": [],
   "source": []
  },
  {
   "cell_type": "code",
   "execution_count": null,
   "metadata": {},
   "outputs": [],
   "source": []
  }
 ],
 "metadata": {
  "kernelspec": {
   "display_name": "Python 3",
   "language": "python",
   "name": "python3"
  },
  "language_info": {
   "codemirror_mode": {
    "name": "ipython",
    "version": 3
   },
   "file_extension": ".py",
   "mimetype": "text/x-python",
   "name": "python",
   "nbconvert_exporter": "python",
   "pygments_lexer": "ipython3",
   "version": "3.7.2"
  }
 },
 "nbformat": 4,
 "nbformat_minor": 2
}
